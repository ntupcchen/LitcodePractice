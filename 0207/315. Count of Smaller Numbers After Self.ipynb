{
 "cells": [
  {
   "cell_type": "code",
   "execution_count": 91,
   "metadata": {},
   "outputs": [],
   "source": [
    "class Solution:\n",
    "    def countSmaller(self, nums):\n",
    "        '''\n",
    "        Runtime: 168 ms, faster than 53.22% of Python3 online submissions for Count of Smaller Numbers After Self.\n",
    "        Memory Usage: 17.1 MB, less than 37.50% of Python3 online submissions for Count of Smaller Numbers After Self.\n",
    "        '''\n",
    "        def mergeSort(enum, start, end):\n",
    "            if start >= end:\n",
    "                return\n",
    "            mid = (start+end)//2\n",
    "            left = mergeSort(enum, start, mid)\n",
    "            right = mergeSort(enum, mid+1, end)\n",
    "            left, right, right_small = start, mid+1, 0\n",
    "            sorted_arr = []\n",
    "            \n",
    "            while left <= mid and right <= end:\n",
    "                if enum[left][1]>enum[right][1]:\n",
    "                    sorted_arr.append(enum[right])\n",
    "                    right_small += 1\n",
    "                    right += 1\n",
    "                else:\n",
    "                    sorted_arr.append(enum[left])\n",
    "                    res[enum[left][0]] += right_small\n",
    "                    left +=1\n",
    "\n",
    "            while left <= mid:\n",
    "                sorted_arr.append(enum[left])\n",
    "                res[enum[left][0]] += right_small\n",
    "                left += 1\n",
    "            if right <= end:\n",
    "                sorted_arr += enum[right:end+1]\n",
    "            enum[start:end+1] = sorted_arr\n",
    "            \n",
    "            print('startEnd: ',start,end)\n",
    "            print(sorted_arr)\n",
    "            print(enum)\n",
    "            print()\n",
    "        enum = list(enumerate(nums))  # [(index, val) ]\n",
    "        res = [0]*len(nums)\n",
    "        mergeSort(enum, 0, len(nums)-1)\n",
    "        return res\n",
    "\n"
   ]
  },
  {
   "cell_type": "code",
   "execution_count": 95,
   "metadata": {},
   "outputs": [
    {
     "data": {
      "text/plain": [
       "[]"
      ]
     },
     "execution_count": 95,
     "metadata": {},
     "output_type": "execute_result"
    }
   ],
   "source": [
    "# inp = [5,2,6,1,4]\n",
    "inp=[]\n",
    "Solution().countSmaller(inp)"
   ]
  },
  {
   "cell_type": "code",
   "execution_count": 97,
   "metadata": {},
   "outputs": [
    {
     "data": {
      "text/plain": [
       "[1, 2, 3, 4, 5]"
      ]
     },
     "execution_count": 97,
     "metadata": {},
     "output_type": "execute_result"
    }
   ],
   "source": [
    "a=[1,2,3,4,5]\n",
    "def change(a):\n",
    "    a=[0,0,0,0]\n",
    "    return a\n",
    "change(a)\n",
    "a"
   ]
  },
  {
   "cell_type": "code",
   "execution_count": null,
   "metadata": {},
   "outputs": [],
   "source": []
  }
 ],
 "metadata": {
  "kernelspec": {
   "display_name": "Python 3",
   "language": "python",
   "name": "python3"
  },
  "language_info": {
   "codemirror_mode": {
    "name": "ipython",
    "version": 3
   },
   "file_extension": ".py",
   "mimetype": "text/x-python",
   "name": "python",
   "nbconvert_exporter": "python",
   "pygments_lexer": "ipython3",
   "version": "3.6.5"
  }
 },
 "nbformat": 4,
 "nbformat_minor": 2
}
