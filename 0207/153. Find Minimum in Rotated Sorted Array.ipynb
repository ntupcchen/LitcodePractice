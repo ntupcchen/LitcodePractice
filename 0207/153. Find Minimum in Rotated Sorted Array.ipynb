{
 "cells": [
  {
   "cell_type": "code",
   "execution_count": 31,
   "metadata": {},
   "outputs": [],
   "source": [
    "class Solution:\n",
    "    def findMin(self, nums) -> int:\n",
    "        '''\n",
    "        Runtime: 36 ms, faster than 84.44% of Python3 online submissions for Find Minimum in Rotated Sorted Array.\n",
    "        Memory Usage: 12.9 MB, less than 100.00% of Python3 online submissions for Find Minimum in Rotated Sorted Array.\n",
    "        '''\n",
    "        if(nums[0]<=nums[-1]):\n",
    "            return nums[0]\n",
    "        if nums[len(nums)//2] > nums[0]:\n",
    "            print(nums[len(nums)//2+1:])\n",
    "            return self.findMin(nums[len(nums)//2+1:])\n",
    "        else:\n",
    "            print(nums[:len(nums)//2+1])\n",
    "            return self.findMin(nums[:len(nums)//2+1])\n",
    "        \n",
    "        "
   ]
  },
  {
   "cell_type": "code",
   "execution_count": 32,
   "metadata": {},
   "outputs": [
    {
     "name": "stdout",
     "output_type": "stream",
     "text": [
      "[1, 2]\n"
     ]
    },
    {
     "data": {
      "text/plain": [
       "1"
      ]
     },
     "execution_count": 32,
     "metadata": {},
     "output_type": "execute_result"
    }
   ],
   "source": [
    "inp = [3,4,5,1,2] \n",
    "Solution().findMin(inp)"
   ]
  },
  {
   "cell_type": "code",
   "execution_count": 22,
   "metadata": {},
   "outputs": [
    {
     "data": {
      "text/plain": [
       "[5]"
      ]
     },
     "execution_count": 22,
     "metadata": {},
     "output_type": "execute_result"
    }
   ],
   "source": [
    "a=[5,1,2]\n",
    "a[:1]"
   ]
  },
  {
   "cell_type": "code",
   "execution_count": null,
   "metadata": {},
   "outputs": [],
   "source": []
  }
 ],
 "metadata": {
  "kernelspec": {
   "display_name": "Python 3",
   "language": "python",
   "name": "python3"
  },
  "language_info": {
   "codemirror_mode": {
    "name": "ipython",
    "version": 3
   },
   "file_extension": ".py",
   "mimetype": "text/x-python",
   "name": "python",
   "nbconvert_exporter": "python",
   "pygments_lexer": "ipython3",
   "version": "3.6.5"
  }
 },
 "nbformat": 4,
 "nbformat_minor": 2
}
