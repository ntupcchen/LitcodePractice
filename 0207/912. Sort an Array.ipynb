{
 "cells": [
  {
   "cell_type": "code",
   "execution_count": 16,
   "metadata": {},
   "outputs": [],
   "source": [
    "class Solution:\n",
    "    def sortArray(self, nums):\n",
    "        '''\n",
    "        Runtime: 124 ms, faster than 99.62% of Python3 online submissions for Sort an Array.\n",
    "        Memory Usage: 19.2 MB, less than 100.00% of Python3 online submissions for Sort an Array.\n",
    "        '''\n",
    "        return sorted(nums)\n",
    "\n",
    "    def sortArray_quick(self, nums):\n",
    "        '''\n",
    "        Runtime: 300 ms, faster than 61.47% of Python3 online submissions for Sort an Array.\n",
    "        Memory Usage: 19 MB, less than 100.00% of Python3 online submissions for Sort an Array.\n",
    "        '''\n",
    "        if len(nums) <= 1:\n",
    "            return nums\n",
    "        start, end = 0, len(nums)-1\n",
    "        pivot = nums[end]\n",
    "\n",
    "        while start < end:\n",
    "            if nums[start] <= pivot:\n",
    "                start += 1\n",
    "            else:\n",
    "                end -= 1\n",
    "                nums[start], nums[end] = nums[end], nums[start]\n",
    "        return self.sortArray_quick(nums[0:start])+[pivot]+self.sortArray_quick(nums[start:-1])"
   ]
  },
  {
   "cell_type": "code",
   "execution_count": 17,
   "metadata": {},
   "outputs": [
    {
     "data": {
      "text/plain": [
       "[1, 3, 5, 6]"
      ]
     },
     "execution_count": 17,
     "metadata": {},
     "output_type": "execute_result"
    }
   ],
   "source": [
    "n=[5,3,6,1]\n",
    "Solution().sortArray_quick(n)"
   ]
  },
  {
   "cell_type": "code",
   "execution_count": null,
   "metadata": {},
   "outputs": [],
   "source": []
  }
 ],
 "metadata": {
  "kernelspec": {
   "display_name": "Python 3",
   "language": "python",
   "name": "python3"
  },
  "language_info": {
   "codemirror_mode": {
    "name": "ipython",
    "version": 3
   },
   "file_extension": ".py",
   "mimetype": "text/x-python",
   "name": "python",
   "nbconvert_exporter": "python",
   "pygments_lexer": "ipython3",
   "version": "3.6.5"
  }
 },
 "nbformat": 4,
 "nbformat_minor": 2
}
