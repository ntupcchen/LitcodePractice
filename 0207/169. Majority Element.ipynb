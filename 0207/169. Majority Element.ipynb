{
 "cells": [
  {
   "cell_type": "code",
   "execution_count": 22,
   "metadata": {},
   "outputs": [],
   "source": [
    "class Solution:\n",
    "    def majorityElement(self, nums) -> int:\n",
    "        lookup = {}\n",
    "        for i in range(len(nums)//2):\n",
    "            if nums[i] in lookup:\n",
    "                lookup[nums[i]] += 1\n",
    "            else:\n",
    "                lookup[nums[i]] = 1\n",
    "        p = len(nums)/2\n",
    "        for i in range(len(nums)//2,len(nums)):\n",
    "            if nums[i] in lookup:\n",
    "                lookup[nums[i]] += 1\n",
    "                if lookup[nums[i]] > p:\n",
    "                    return nums[i]\n",
    "            else:\n",
    "                lookup[nums[i]] = 1\n",
    "        return nums[0]\n",
    "                \n",
    "                    "
   ]
  },
  {
   "cell_type": "code",
   "execution_count": 21,
   "metadata": {},
   "outputs": [
    {
     "data": {
      "text/plain": [
       "3"
      ]
     },
     "execution_count": 21,
     "metadata": {},
     "output_type": "execute_result"
    }
   ],
   "source": [
    "Solution().majorityElement([3,3])"
   ]
  },
  {
   "cell_type": "raw",
   "metadata": {},
   "source": []
  }
 ],
 "metadata": {
  "kernelspec": {
   "display_name": "Python 3",
   "language": "python",
   "name": "python3"
  },
  "language_info": {
   "codemirror_mode": {
    "name": "ipython",
    "version": 3
   },
   "file_extension": ".py",
   "mimetype": "text/x-python",
   "name": "python",
   "nbconvert_exporter": "python",
   "pygments_lexer": "ipython3",
   "version": "3.6.5"
  }
 },
 "nbformat": 4,
 "nbformat_minor": 2
}
