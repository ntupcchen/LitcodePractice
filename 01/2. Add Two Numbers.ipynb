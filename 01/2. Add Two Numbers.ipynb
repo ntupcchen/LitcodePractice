{
 "cells": [
  {
   "cell_type": "code",
   "execution_count": 50,
   "metadata": {},
   "outputs": [],
   "source": [
    "class ListNode:\n",
    "    def __init__(self, x):\n",
    "        self.val = x\n",
    "        self.next = None\n",
    "\n",
    "        \n",
    "class Solution:\n",
    "    def addTwoNumbers(self, l1: ListNode, l2: ListNode) -> ListNode:\n",
    "        '''Runtime: 60 ms, faster than 94.89% of Python3 online submissions for Add Two Numbers.\n",
    "            Memory Usage: 12.9 MB, less than 100.00% of Python3 online submissions for Add Two Numbers.\n",
    "        '''\n",
    "            isL1Left, isL2Left = True, True\n",
    "            digit_sum = l1.val+l2.val\n",
    "            if (digit_sum)>=10:\n",
    "                carry = 1\n",
    "                digit_sum -= 10\n",
    "            else:\n",
    "                carry = 0\n",
    "            sentinel = ListNode(digit_sum)\n",
    "            previous_node = sentinel\n",
    "            l1 = l1.next\n",
    "            l2 = l2.next\n",
    "            if(not l1):\n",
    "                l1 = ListNode(0)\n",
    "                l1.next = l1\n",
    "                isL1Left = False\n",
    "            if(not l2):\n",
    "                l2 = ListNode(0)\n",
    "                l2.next = l2\n",
    "                isL2Left = False\n",
    "            \n",
    "            while isL1Left or isL2Left:\n",
    "                print('x')\n",
    "                digit_sum = l1.val+l2.val+carry\n",
    "                if (digit_sum)>=10:\n",
    "                    carry = 1\n",
    "                    digit_sum -= 10\n",
    "                else:\n",
    "                    carry = 0\n",
    "                new_node = ListNode(digit_sum)\n",
    "                previous_node.next = new_node\n",
    "                previous_node = new_node\n",
    "\n",
    "                l1 = l1.next\n",
    "                l2 = l2.next\n",
    "                    \n",
    "                if (isL1Left and not l1):\n",
    "                    isL1Left = False\n",
    "                    l1 = ListNode(0)\n",
    "                    l1.next = l1\n",
    "                if (isL2Left and not l2):\n",
    "                    isL2Left = False\n",
    "                    l2 = ListNode(0)\n",
    "                    l2.next = l2\n",
    "            if carry==1:\n",
    "                previous_node.next = ListNode(1)\n",
    "            return sentinel\n",
    "                "
   ]
  },
  {
   "cell_type": "code",
   "execution_count": 52,
   "metadata": {},
   "outputs": [
    {
     "name": "stdout",
     "output_type": "stream",
     "text": [
      "x\n",
      "x\n",
      "4 ->1 ->5 ->"
     ]
    }
   ],
   "source": [
    "a = ListNode(1)\n",
    "a.next = ListNode(2)\n",
    "a.next.next = ListNode(4)\n",
    "b = ListNode(3)\n",
    "b.next = ListNode(9)\n",
    "Li = Solution().addTwoNumbers(a,b)\n",
    "while Li:\n",
    "    print(Li.val, '->',end='')\n",
    "    Li = Li.next"
   ]
  },
  {
   "cell_type": "code",
   "execution_count": 37,
   "metadata": {},
   "outputs": [
    {
     "name": "stdout",
     "output_type": "stream",
     "text": [
      "1\n"
     ]
    }
   ],
   "source": [
    "# varible change -> point to another memory\n",
    "sentinel = ListNode(1)\n",
    "d= sentinel\n",
    "d.next = ListNode(2)\n",
    "d = d.next\n",
    "print(sentinel.val)"
   ]
  },
  {
   "cell_type": "code",
   "execution_count": 41,
   "metadata": {},
   "outputs": [
    {
     "name": "stdout",
     "output_type": "stream",
     "text": [
      "[1, 2, 3, 4]\n"
     ]
    }
   ],
   "source": [
    "# The point is: reassign a object or operate the object\n",
    "a = [1,2,3]\n",
    "b = a\n",
    "b.append(4)\n",
    "print(a)"
   ]
  },
  {
   "cell_type": "code",
   "execution_count": null,
   "metadata": {},
   "outputs": [],
   "source": []
  }
 ],
 "metadata": {
  "kernelspec": {
   "display_name": "Python 3",
   "language": "python",
   "name": "python3"
  },
  "language_info": {
   "codemirror_mode": {
    "name": "ipython",
    "version": 3
   },
   "file_extension": ".py",
   "mimetype": "text/x-python",
   "name": "python",
   "nbconvert_exporter": "python",
   "pygments_lexer": "ipython3",
   "version": "3.6.5"
  }
 },
 "nbformat": 4,
 "nbformat_minor": 2
}
