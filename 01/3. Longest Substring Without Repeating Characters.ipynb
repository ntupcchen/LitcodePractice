{
 "cells": [
  {
   "cell_type": "code",
   "execution_count": 46,
   "metadata": {},
   "outputs": [],
   "source": [
    "class Solution:\n",
    "    def lengthOfLongestSubstring(self, s: str) -> int:\n",
    "    ''' Runtime: 48 ms, faster than 93.03% of Python3 online submissions for Longest Substring Without Repeating Characters.\n",
    "        Memory Usage: 12.8 MB, less than 100.00% of Python3 online submissions for Longest Substring Without Repeating Characters.\n",
    "    '''\n",
    "        dic={}\n",
    "        start_index, end_index, stop_index, max_len = 0,0,0,0\n",
    "        for i in range(len(s)):\n",
    "            if s[i] not in dic:\n",
    "                dic[s[i]] = i\n",
    "            elif dic[s[i]]<stop_index:\n",
    "                dic[s[i]] = i\n",
    "            else:\n",
    "                len_i = i-stop_index\n",
    "                if len_i > max_len:\n",
    "                    start_index = stop_index\n",
    "                    end_index = i\n",
    "                    max_len = len_i\n",
    "                stop_index = dic[s[i]]+1\n",
    "                dic[s[i]] = i\n",
    "\n",
    "            if i == len(s)-1:\n",
    "                len_i = i-stop_index+1\n",
    "                if len_i > max_len:\n",
    "                    return i-stop_index+1\n",
    "        return end_index-start_index\n",
    "        "
   ]
  },
  {
   "cell_type": "code",
   "execution_count": 47,
   "metadata": {},
   "outputs": [
    {
     "data": {
      "text/plain": [
       "3"
      ]
     },
     "execution_count": 47,
     "metadata": {},
     "output_type": "execute_result"
    }
   ],
   "source": [
    "a='aabbabc'\n",
    "b=Solution().lengthOfLongestSubstring(a)\n",
    "b      "
   ]
  },
  {
   "cell_type": "code",
   "execution_count": null,
   "metadata": {},
   "outputs": [],
   "source": []
  }
 ],
 "metadata": {
  "kernelspec": {
   "display_name": "Python 3",
   "language": "python",
   "name": "python3"
  },
  "language_info": {
   "codemirror_mode": {
    "name": "ipython",
    "version": 3
   },
   "file_extension": ".py",
   "mimetype": "text/x-python",
   "name": "python",
   "nbconvert_exporter": "python",
   "pygments_lexer": "ipython3",
   "version": "3.6.5"
  }
 },
 "nbformat": 4,
 "nbformat_minor": 2
}
