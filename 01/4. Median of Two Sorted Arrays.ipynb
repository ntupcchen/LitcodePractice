{
 "cells": [
  {
   "cell_type": "code",
   "execution_count": 65,
   "metadata": {},
   "outputs": [],
   "source": [
    "import math\n",
    "\n",
    "\n",
    "class Solution:\n",
    "    def findMedianSortedArrays(self, nums1, nums2):\n",
    "        '''\n",
    "        Runtime: 92 ms, faster than 83.69% of Python3 online submissions for Median of Two Sorted Arrays.\n",
    "        Memory Usage: 13.1 MB, less than 100.00% of Python3 online submissions for Median of Two Sorted Arrays.\n",
    "        '''\n",
    "        m, n = len(nums1), len(nums2)\n",
    "        if (m+n) % 2 == 1:\n",
    "            isEven = False\n",
    "            medianIndex = (m+n+1) / 2\n",
    "        else:\n",
    "            isEven = True\n",
    "            medianIndex = (m+n) / 2\n",
    "        medianIndex = int(medianIndex)\n",
    "\n",
    "        if n > m:\n",
    "            nums1, nums2, m, n = nums2, nums1, n, m\n",
    "\n",
    "        if not n:\n",
    "            if isEven:\n",
    "                return (nums1[medianIndex-1]+nums1[medianIndex]) / 2\n",
    "            else:\n",
    "                return nums1[medianIndex-1]\n",
    "\n",
    "        isFind = False\n",
    "        left, right, x, y = 0, medianIndex, int(math.ceil(m/2)), 0\n",
    "\n",
    "        while not isFind:\n",
    "            \n",
    "            y = medianIndex-x\n",
    "            print(x,y)\n",
    "            if x == m:\n",
    "                if nums2[y] >= nums1[x-1]:\n",
    "                    ifFind = True\n",
    "                    break\n",
    "                else:\n",
    "                    right = x-1\n",
    "                    x = x-1\n",
    "                    continue\n",
    "            elif y >= n:\n",
    "                y, x = n, medianIndex-n\n",
    "                if nums1[x] >= nums2[y-1]:\n",
    "                    ifFind = True\n",
    "                    break\n",
    "                else:\n",
    "                    left = x+1\n",
    "                    x = x+1\n",
    "                    continue\n",
    "            elif y <= 0:\n",
    "                y,x = 0, medianIndex-0\n",
    "                if nums2[y] > nums1[x-1]:\n",
    "                    break\n",
    "                else:\n",
    "                    x = x-1\n",
    "                    right = x\n",
    "                    continue\n",
    "            elif x == 0:\n",
    "                if nums1[x] > nums1[y-1]:\n",
    "                    break\n",
    "                else:\n",
    "                    left = x = 1+x\n",
    "\n",
    "            if nums1[x] >= nums2[y-1] and nums1[x-1] <= nums2[y]:\n",
    "                ifFind = True\n",
    "                break\n",
    "            elif nums1[x] < nums2[y-1]:\n",
    "                left = x+1\n",
    "            elif nums1[x-1] > nums2[y]:\n",
    "                right = x-1\n",
    "\n",
    "            x = math.ceil((left+right)/2)\n",
    "        \n",
    "        return self.findMedian(nums1, nums2, x, y, isEven)\n",
    "\n",
    "    def findMedian(self, nums1, nums2, x, y, isEven):\n",
    "        if x == 0:\n",
    "            median = nums2[y-1]\n",
    "        elif y == 0:\n",
    "            median = nums1[x-1]\n",
    "        else:\n",
    "            median = self.findBigger(nums1[x-1], nums2[y-1])\n",
    "\n",
    "        if isEven:\n",
    "            median = (median+self.findNext(nums1, nums2, x, y)) / 2\n",
    "\n",
    "        return median\n",
    "\n",
    "    def findNext(self, nums1, nums2, x, y):\n",
    "        if x == len(nums1):\n",
    "            return nums2[y]\n",
    "        elif y == len(nums2):\n",
    "            return nums1[x]\n",
    "        else:\n",
    "            if nums1[x]>nums2[y]:\n",
    "                return nums2[y]\n",
    "            else:\n",
    "                return nums1[x]\n",
    "\n",
    "    def findBigger(self, n1, n2):\n",
    "        if n1 >= n2:\n",
    "            return n1\n",
    "        else:\n",
    "            return n2"
   ]
  },
  {
   "cell_type": "code",
   "execution_count": 71,
   "metadata": {},
   "outputs": [
    {
     "name": "stdout",
     "output_type": "stream",
     "text": [
      "1 1\n",
      "2 0\n"
     ]
    },
    {
     "data": {
      "text/plain": [
       "2.5"
      ]
     },
     "execution_count": 71,
     "metadata": {},
     "output_type": "execute_result"
    }
   ],
   "source": [
    "nums1 = [1,2]\n",
    "nums2 = [3,4]\n",
    "s=Solution().findMedianSortedArrays(nums1, nums2)\n",
    "s"
   ]
  },
  {
   "cell_type": "code",
   "execution_count": null,
   "metadata": {},
   "outputs": [],
   "source": [
    "'''\n",
    "            動筆前把演算法和\"\"邊際條件\"想清楚\n",
    "            參數定義清楚，邊際條件才搞得清楚\n",
    "            時間的權重在O()，O(1)的邊際不太會影響時間\n",
    "            結構寫不好，debug抵到死\n",
    "            出錯時不要挖東牆補西牆，回頭檢驗演算法問題\n",
    "'''"
   ]
  }
 ],
 "metadata": {
  "kernelspec": {
   "display_name": "Python 3",
   "language": "python",
   "name": "python3"
  },
  "language_info": {
   "codemirror_mode": {
    "name": "ipython",
    "version": 3
   },
   "file_extension": ".py",
   "mimetype": "text/x-python",
   "name": "python",
   "nbconvert_exporter": "python",
   "pygments_lexer": "ipython3",
   "version": "3.6.5"
  }
 },
 "nbformat": 4,
 "nbformat_minor": 2
}
