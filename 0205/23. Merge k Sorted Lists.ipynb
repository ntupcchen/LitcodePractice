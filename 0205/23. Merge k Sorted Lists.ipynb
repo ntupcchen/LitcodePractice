{
 "cells": [
  {
   "cell_type": "code",
   "execution_count": 69,
   "metadata": {},
   "outputs": [],
   "source": [
    "from queue import PriorityQueue\n",
    "from heapq import heappush, heappop, heapreplace, heapify\n",
    "\n",
    "\n",
    "# Definition for singly-linked list.\n",
    "class ListNode:\n",
    "    def __init__(self, x):\n",
    "        self.val = x\n",
    "        self.next = None\n",
    "\n",
    "\n",
    "class Solution:\n",
    "    def mergeKLists_heapq(self, lists):\n",
    "        '''2020/02/05\n",
    "        Runtime: 92 ms, faster than 94.65% of Python3 online submissions for Merge k Sorted Lists.\n",
    "        Memory Usage: 16 MB, less than 100.00% of Python3 online submissions for Merge k Sorted Lists.\n",
    "        '''\n",
    "        curr = dummy = ListNode(None)\n",
    "        heap= [(node.val, i, node) for i, node in enumerate(lists) if node]\n",
    "        heapify(heap)\n",
    "        while heap!=[]:\n",
    "            val, i ,node = heap[0]\n",
    "            curr.next = node\n",
    "            curr = node\n",
    "            if(curr.next):\n",
    "                heapreplace(heap, (curr.next.val, i, curr.next))\n",
    "            else:\n",
    "                heappop(heap)\n",
    "        return dummy.next\n",
    "        \n",
    "        \n",
    "    def mergeKLists_PriorityQueue(self, lists):\n",
    "        '''2020/02/05\n",
    "        Runtime: 180 ms, faster than 27.13% of Python3 online submissions for Merge k Sorted Lists.\n",
    "        Memory Usage: 16.6 MB, less than 45.45% of Python3 online submissions for Merge k Sorted Lists.\n",
    "        '''\n",
    "        cur = dummy = ListNode(None)\n",
    "\n",
    "        q = PriorityQueue()\n",
    "        for i, node in enumerate(lists):\n",
    "            if node:\n",
    "                q.put((node.val, i, node))\n",
    "        while not q.empty():\n",
    "            item = q.get()\n",
    "            cur.next = item[2]\n",
    "            cur = cur.next\n",
    "            if (cur.next):\n",
    "                q.put((cur.next.val, item[1], cur.next))\n",
    "        return dummy.next\n",
    "\n",
    "    def mergeKLists_Recursive(self, lists) -> ListNode:\n",
    "        '''2020/02/05\n",
    "        Runtime: 7352 ms, faster than 5.00% of Python3 online submissions for Merge k Sorted Lists.\n",
    "        Memory Usage: 25.4 MB, less than 6.06% of Python3 online submissions for Merge k Sorted Lists.\n",
    "        '''\n",
    "        empty_node = []\n",
    "        for i, node in enumerate(lists):\n",
    "            if not node:\n",
    "                empty_node.insert(0, i)\n",
    "        for i in empty_node:\n",
    "            lists.pop(i)\n",
    "        if len(lists) == 0:\n",
    "            return None\n",
    "\n",
    "        min_and_index = [float('inf'), -1]\n",
    "        for i, node in enumerate(lists):\n",
    "            if node.val < min_and_index[0]:\n",
    "                min_and_index[0] = node.val\n",
    "                min_and_index[1] = i\n",
    "        new_node = ListNode(min_and_index[0])\n",
    "        lists[min_and_index[1]] = lists[min_and_index[1]].next\n",
    "        new_node.next = self.mergeKLists(lists)\n",
    "        return new_node"
   ]
  },
  {
   "cell_type": "code",
   "execution_count": 70,
   "metadata": {},
   "outputs": [
    {
     "name": "stdout",
     "output_type": "stream",
     "text": [
      "1 ,1 ,3 ,4 ,4 ,5 ,"
     ]
    }
   ],
   "source": [
    "def makeListNode(arr):\n",
    "    if not arr:\n",
    "        return None\n",
    "    sentinel = p = ListNode(arr[0])\n",
    "    if len(arr)>1:\n",
    "        for i in range(len(arr)-1):\n",
    "            n = ListNode(arr[i+1])\n",
    "            p.next = n\n",
    "            p = n\n",
    "            \n",
    "    return sentinel\n",
    "def printLN(ln):\n",
    "    while ln:\n",
    "        print(ln.val,',',end='')\n",
    "        ln = ln.next\n",
    "\n",
    "a=makeListNode([1,4,5])\n",
    "b=makeListNode([1,3,4])\n",
    "c=Solution().mergeKLists([a,b])\n",
    "printLN(c)"
   ]
  },
  {
   "cell_type": "code",
   "execution_count": 42,
   "metadata": {},
   "outputs": [
    {
     "data": {
      "text/plain": [
       "\"    Aware of popping list in for loop (index error lead to none fully 'for')    \""
      ]
     },
     "execution_count": 42,
     "metadata": {},
     "output_type": "execute_result"
    }
   ],
   "source": [
    "'''    Aware of popping list in for loop (index error lead to none fully 'for')    '''"
   ]
  }
 ],
 "metadata": {
  "kernelspec": {
   "display_name": "Python 3",
   "language": "python",
   "name": "python3"
  },
  "language_info": {
   "codemirror_mode": {
    "name": "ipython",
    "version": 3
   },
   "file_extension": ".py",
   "mimetype": "text/x-python",
   "name": "python",
   "nbconvert_exporter": "python",
   "pygments_lexer": "ipython3",
   "version": "3.6.5"
  }
 },
 "nbformat": 4,
 "nbformat_minor": 2
}
