{
 "cells": [
  {
   "cell_type": "code",
   "execution_count": 23,
   "metadata": {},
   "outputs": [],
   "source": [
    "# Definition for singly-linked list.\n",
    "class ListNode:\n",
    "    def __init__(self, x):\n",
    "        self.val = x\n",
    "        self.next = None\n",
    "\n",
    "        \n",
    "        \n",
    "class Solution:\n",
    "    def hasCycle(self, head: ListNode) -> bool:\n",
    "        '''2020/02/05\n",
    "        Runtime: 40 ms, faster than 96.12% of Python3 online submissions for Linked List Cycle.\n",
    "        Memory Usage: 16 MB, less than 100.00% of Python3 online submissions for Linked List Cycle.\n",
    "        '''\n",
    "        if not head or not head.next:\n",
    "            return False\n",
    "        walker = head\n",
    "        runner = head.next\n",
    "        while True:\n",
    "            if not runner.next or not runner.next.next:\n",
    "                return False\n",
    "            if(runner == walker):\n",
    "                return True\n",
    "            runner = runner.next.next\n",
    "            walker = walker.next\n",
    "\n",
    "            "
   ]
  },
  {
   "cell_type": "code",
   "execution_count": 24,
   "metadata": {},
   "outputs": [
    {
     "name": "stdout",
     "output_type": "stream",
     "text": [
      "True\n"
     ]
    }
   ],
   "source": [
    "def makeListNode(arr):\n",
    "    sentinel = p = ListNode(arr[0])\n",
    "    if len(arr)>1:\n",
    "        for i in range(len(arr)-1):\n",
    "            n = ListNode(arr[i+1])\n",
    "            p.next = n\n",
    "            p = n\n",
    "            \n",
    "    return sentinel\n",
    "def printLN(ln):\n",
    "    while ln:\n",
    "        print(ln.val,',',end='')\n",
    "        ln = ln.next\n",
    "\n",
    "a= makeListNode([1,2,3,4,5,6])\n",
    "a.next.next = a\n",
    "c=Solution().hasCycle(a)\n",
    "print(c)"
   ]
  }
 ],
 "metadata": {
  "kernelspec": {
   "display_name": "Python 3",
   "language": "python",
   "name": "python3"
  },
  "language_info": {
   "codemirror_mode": {
    "name": "ipython",
    "version": 3
   },
   "file_extension": ".py",
   "mimetype": "text/x-python",
   "name": "python",
   "nbconvert_exporter": "python",
   "pygments_lexer": "ipython3",
   "version": "3.6.5"
  }
 },
 "nbformat": 4,
 "nbformat_minor": 2
}
