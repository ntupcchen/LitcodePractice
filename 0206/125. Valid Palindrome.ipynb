{
 "cells": [
  {
   "cell_type": "code",
   "execution_count": 29,
   "metadata": {},
   "outputs": [],
   "source": [
    "class Solution:\n",
    "    def isPalindrome(self, s: str) -> bool:\n",
    "        '''\n",
    "        Runtime: 44 ms, faster than 75.71% of Python3 online submissions for Valid Palindrome.\n",
    "        Memory Usage: 13.2 MB, less than 89.29% of Python3 online submissions for Valid Palindrome.\n",
    "        '''\n",
    "        left, right = 0, len(s)-1\n",
    "\n",
    "        while left < right:\n",
    "            while not s[left].isalnum():\n",
    "                left += 1\n",
    "                if left == len(s):\n",
    "                    return False\n",
    "            while not s[right].isalnum():\n",
    "                right -= 1\n",
    "            if s[left].lower() != s[right].lower():\n",
    "                return False\n",
    "            left += 1\n",
    "            right -= 1\n",
    "        return True"
   ]
  },
  {
   "cell_type": "code",
   "execution_count": 30,
   "metadata": {},
   "outputs": [
    {
     "data": {
      "text/plain": [
       "False"
      ]
     },
     "execution_count": 30,
     "metadata": {},
     "output_type": "execute_result"
    }
   ],
   "source": [
    "s = \".,\"\n",
    "Solution().isPalindrome(s)"
   ]
  }
 ],
 "metadata": {
  "kernelspec": {
   "display_name": "Python 3",
   "language": "python",
   "name": "python3"
  },
  "language_info": {
   "codemirror_mode": {
    "name": "ipython",
    "version": 3
   },
   "file_extension": ".py",
   "mimetype": "text/x-python",
   "name": "python",
   "nbconvert_exporter": "python",
   "pygments_lexer": "ipython3",
   "version": "3.6.5"
  }
 },
 "nbformat": 4,
 "nbformat_minor": 2
}
