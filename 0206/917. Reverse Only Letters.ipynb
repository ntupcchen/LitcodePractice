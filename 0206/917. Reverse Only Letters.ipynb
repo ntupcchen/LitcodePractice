{
 "cells": [
  {
   "cell_type": "code",
   "execution_count": 51,
   "metadata": {},
   "outputs": [],
   "source": [
    "class Solution:\n",
    "    def reverseOnlyLetters_stack(self, S):\n",
    "        '''\n",
    "        '''\n",
    "        r = [s for s in S if s.isalpha()]\n",
    "        return \"\".join(S[i] if not S[i].isalpha() else r.pop() for i in range(len(S)))\n",
    "    \n",
    "    def reverseOnlyLetters_two_pointers(self, S: str) -> str:\n",
    "        '''2020/02/06\n",
    "        Runtime: 24 ms, faster than 88.06% of Python3 online submissions for Reverse Only Letters.\n",
    "        Memory Usage: 12.7 MB, less than 100.00% of Python3 online submissions for Reverse Only Letters.\n",
    "        '''\n",
    "        if not S:\n",
    "            return S\n",
    "        l,r = 0, len(S)-1\n",
    "        s = list(S)\n",
    "        while not s[l].isalpha():\n",
    "            l+=1\n",
    "            if l==len(s):\n",
    "                return S\n",
    "        \n",
    "        while(l<r):\n",
    "            \n",
    "            while not s[l].isalpha():\n",
    "                l += 1\n",
    "            while not s[r].isalpha():\n",
    "                r -= 1\n",
    "            if l>r:\n",
    "                break\n",
    "            print(s[l],s[r])\n",
    "            s[l] ,s[r] = s[r], s[l]\n",
    "            l += 1\n",
    "            r -= 1\n",
    "        return ''.join([cha for cha in s])\n"
   ]
  },
  {
   "cell_type": "code",
   "execution_count": 53,
   "metadata": {},
   "outputs": [
    {
     "data": {
      "text/plain": [
       "'?6E40C'"
      ]
     },
     "execution_count": 53,
     "metadata": {},
     "output_type": "execute_result"
    }
   ],
   "source": [
    "s=\"?6C40E\"\n",
    "Solution().reverseOnlyLetters_stack(s)"
   ]
  }
 ],
 "metadata": {
  "kernelspec": {
   "display_name": "Python 3",
   "language": "python",
   "name": "python3"
  },
  "language_info": {
   "codemirror_mode": {
    "name": "ipython",
    "version": 3
   },
   "file_extension": ".py",
   "mimetype": "text/x-python",
   "name": "python",
   "nbconvert_exporter": "python",
   "pygments_lexer": "ipython3",
   "version": "3.6.5"
  }
 },
 "nbformat": 4,
 "nbformat_minor": 2
}
