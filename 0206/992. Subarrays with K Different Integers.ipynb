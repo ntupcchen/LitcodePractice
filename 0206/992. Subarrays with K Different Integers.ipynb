{
 "cells": [
  {
   "cell_type": "code",
   "execution_count": 63,
   "metadata": {},
   "outputs": [],
   "source": [
    "class Solution:\n",
    "    def subarraysWithKDistinct(self, A:list, K: int) -> int:\n",
    "        count = 0\n",
    "        for i in range(len(A)-K+1):\n",
    "            print(i)\n",
    "            s = set()\n",
    "            while len(s)<K:\n",
    "                s.add(A[i])\n",
    "                i += 1\n",
    "                if (i>=len(A)):\n",
    "                    break\n",
    "            print(s,i)\n",
    "            if i>=len(A):\n",
    "                if len(s)==K:\n",
    "                    count += 1\n",
    "                continue\n",
    "            count += 1\n",
    "            while A[i] in s:\n",
    "                count += 1\n",
    "                i +=1\n",
    "                if i >= len(A):\n",
    "                    break\n",
    "        return count"
   ]
  },
  {
   "cell_type": "code",
   "execution_count": 64,
   "metadata": {
    "scrolled": true
   },
   "outputs": [
    {
     "name": "stdout",
     "output_type": "stream",
     "text": [
      "0\n",
      "{1, 2, 3} 5\n",
      "1\n",
      "{1, 2, 3} 5\n",
      "2\n",
      "{1, 2, 3} 5\n"
     ]
    },
    {
     "data": {
      "text/plain": [
       "3"
      ]
     },
     "execution_count": 64,
     "metadata": {},
     "output_type": "execute_result"
    }
   ],
   "source": [
    "A = [2,1,2,1,3]; K = 3\n",
    "# A=[48,18,15,17,35,33,3,22,14,52,18,32,45,33,39,7,52,2,4,22,13,41,4,29,3,7,34,31,4,49,3,8,20,42,12,11,35,42,3,21,27,29,37,21,40,50,22,7,2,32,1,1,22,33,19,52,38,34,36,48,40,28,47,8,7,46,17,7,2,21,49,6,7,50,15,31,50,52,1,27,3,15,5,6,23,26,34,50,15,22,26,39,28,25,25,21,37,28,45]\n",
    "# K=30\n",
    "Solution().subarraysWithKDistinct(A,K)"
   ]
  },
  {
   "cell_type": "code",
   "execution_count": 43,
   "metadata": {},
   "outputs": [],
   "source": [
    "[29,43,33,30,50,51,35,34,22,23,16,20,29,33,37,46,6,7,32,38,21,4,4,33,16,8,29,53,40,19,42,1,32,1,49,32,46,49,42,16,5,1,28,24,10,1,51,31,5,33,12,45,35,24,5,28,10,51,38,7,7,37,6,21,52,30,16,12,14,43,11,10,46,38,21,45,50,41,48,47,10,36,52,6,50,48,40,32,3,23,52,11,39,36,13,24,36,38,34]\n",
    "20"
   ]
  },
  {
   "cell_type": "code",
   "execution_count": 59,
   "metadata": {},
   "outputs": [
    {
     "name": "stdout",
     "output_type": "stream",
     "text": [
      "\n",
      "F:  0\n",
      "S:  1\n",
      "\n",
      "F:  1\n",
      "S:  2\n",
      "\n",
      "F:  2\n",
      "S:  3\n",
      "\n",
      "F:  3\n",
      "S:  4\n",
      "\n",
      "F:  4\n",
      "S:  5\n"
     ]
    }
   ],
   "source": [
    "for i in range(5):\n",
    "    print()\n",
    "    print('F: ',i)\n",
    "    i += 1\n",
    "    print('S: ',i)"
   ]
  },
  {
   "cell_type": "code",
   "execution_count": 2,
   "metadata": {},
   "outputs": [
    {
     "ename": "NameError",
     "evalue": "name 'collections' is not defined",
     "output_type": "error",
     "traceback": [
      "\u001b[1;31m---------------------------------------------------------------------------\u001b[0m",
      "\u001b[1;31mNameError\u001b[0m                                 Traceback (most recent call last)",
      "\u001b[1;32m<ipython-input-2-19d2962caecf>\u001b[0m in \u001b[0;36m<module>\u001b[1;34m()\u001b[0m\n\u001b[1;32m----> 1\u001b[1;33m \u001b[0mlookup\u001b[0m \u001b[1;33m=\u001b[0m \u001b[0mcollections\u001b[0m\u001b[1;33m.\u001b[0m\u001b[0mdefaultdict\u001b[0m\u001b[1;33m(\u001b[0m\u001b[0mint\u001b[0m\u001b[1;33m)\u001b[0m\u001b[1;33m\u001b[0m\u001b[0m\n\u001b[0m",
      "\u001b[1;31mNameError\u001b[0m: name 'collections' is not defined"
     ]
    }
   ],
   "source": [
    "lookup = collections.defaultdict(int)"
   ]
  },
  {
   "cell_type": "code",
   "execution_count": null,
   "metadata": {},
   "outputs": [],
   "source": []
  }
 ],
 "metadata": {
  "kernelspec": {
   "display_name": "Python 3",
   "language": "python",
   "name": "python3"
  },
  "language_info": {
   "codemirror_mode": {
    "name": "ipython",
    "version": 3
   },
   "file_extension": ".py",
   "mimetype": "text/x-python",
   "name": "python",
   "nbconvert_exporter": "python",
   "pygments_lexer": "ipython3",
   "version": "3.6.5"
  }
 },
 "nbformat": 4,
 "nbformat_minor": 2
}
