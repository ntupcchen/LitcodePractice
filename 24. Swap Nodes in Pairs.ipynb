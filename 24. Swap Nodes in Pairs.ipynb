{
 "cells": [
  {
   "cell_type": "code",
   "execution_count": 29,
   "metadata": {},
   "outputs": [],
   "source": [
    "# Definition for singly-linked list.\n",
    "class ListNode:\n",
    "    def __init__(self, x):\n",
    "        self.val = x\n",
    "        self.next = None\n",
    "\n",
    "class Solution:\n",
    "    '''2020/02/04\n",
    "    Runtime: 16 ms, faster than 99.80% of Python3 online submissions for Swap Nodes in Pairs.\n",
    "    Memory Usage: 12.8 MB, less than 100.00% of Python3 online submissions for Swap Nodes in Pairs.\n",
    "    '''\n",
    "    def swapPairs(self, head: ListNode) -> ListNode:\n",
    "        sentinel = head\n",
    "        head = ListNode(0)\n",
    "        head.next = sentinel\n",
    "        sentinel = sentinel.next\n",
    "        \n",
    "        while head.next:\n",
    "            self.swap_coming2(head)\n",
    "            head = head.next.next\n",
    "        return sentinel\n",
    "            \n",
    "    def swap_coming2(self, node):\n",
    "        node1 = node.next\n",
    "        node2 = node1.next\n",
    "        node.next = node2\n",
    "        node1.next = node2.next\n",
    "        node2.next = node1  "
   ]
  },
  {
   "cell_type": "code",
   "execution_count": 36,
   "metadata": {},
   "outputs": [],
   "source": [
    "class Solution:\n",
    "    def swapPairs(self, head: ListNode) -> ListNode:\n",
    "        '''2020/02/04 Recursive\n",
    "        Runtime: 20 ms, faster than 98.00% of Python3 online submissions for Swap Nodes in Pairs.\n",
    "        Memory Usage: 12.8 MB, less than 100.00% of Python3 online submissions for Swap Nodes in Pairs.\n",
    "        '''\n",
    "        if (not head or not head.next):\n",
    "            return head\n",
    "        next_node = head.next\n",
    "        head.next = self.swapPairs(next_node.next)\n",
    "        next_node.next = head\n",
    "        return next_node"
   ]
  },
  {
   "cell_type": "code",
   "execution_count": 37,
   "metadata": {},
   "outputs": [
    {
     "name": "stdout",
     "output_type": "stream",
     "text": [
      "2 ,1 ,4 ,3 ,6 ,5 ,"
     ]
    }
   ],
   "source": [
    "def makeListNode(arr):\n",
    "    sentinel = p = ListNode(arr[0])\n",
    "    if len(arr)>1:\n",
    "        for i in range(len(arr)-1):\n",
    "            n = ListNode(arr[i+1])\n",
    "            p.next = n\n",
    "            p = n\n",
    "            \n",
    "    return sentinel\n",
    "def printLN(ln):\n",
    "    while ln:\n",
    "        print(ln.val,',',end='')\n",
    "        ln = ln.next\n",
    "        \n",
    "def exam(node):\n",
    "    node = ListNode(0)\n",
    "\n",
    "    \n",
    "\n",
    "a= makeListNode([1,2,3,4,5,6])\n",
    "\n",
    "c=Solution().swapPairs(a)\n",
    "printLN(c)"
   ]
  }
 ],
 "metadata": {
  "kernelspec": {
   "display_name": "Python 3",
   "language": "python",
   "name": "python3"
  },
  "language_info": {
   "codemirror_mode": {
    "name": "ipython",
    "version": 3
   },
   "file_extension": ".py",
   "mimetype": "text/x-python",
   "name": "python",
   "nbconvert_exporter": "python",
   "pygments_lexer": "ipython3",
   "version": "3.6.5"
  }
 },
 "nbformat": 4,
 "nbformat_minor": 2
}
