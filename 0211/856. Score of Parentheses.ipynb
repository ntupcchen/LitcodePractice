{
 "cells": [
  {
   "cell_type": "code",
   "execution_count": 18,
   "metadata": {},
   "outputs": [],
   "source": [
    "class Solution:\n",
    "\n",
    "    def scoreOfParentheses_space0(self, S):\n",
    "        res = l = 0\n",
    "        for i in range(len(S)):\n",
    "            if(i+1) == len(S):\n",
    "                break\n",
    "            a = S[i]\n",
    "            b = S[i+1]\n",
    "            if a + b == '()':\n",
    "                res += 2 ** l\n",
    "            l += 1 if a == '(' else -1\n",
    "        return res\n",
    "\n",
    "    def scoreOfParentheses(self, S: str) -> int:\n",
    "        '''\n",
    "    Runtime: 20 ms, faster than 95.66% of Python3 online submissions for Score of Parentheses.\n",
    "    Memory Usage: 12.6 MB, less than 100.00% of Python3 online submissions for Score of Parentheses.\n",
    "        '''\n",
    "        stack, num = [], 0\n",
    "        for char in S:\n",
    "            if char == '(':\n",
    "                stack.append(num)\n",
    "                num = 0\n",
    "            else:\n",
    "                if not num:\n",
    "                    num = 1+stack.pop()\n",
    "                else:\n",
    "                    num = num*2+stack.pop()\n",
    "        return num"
   ]
  }
 ],
 "metadata": {
  "kernelspec": {
   "display_name": "Python 3",
   "language": "python",
   "name": "python3"
  },
  "language_info": {
   "codemirror_mode": {
    "name": "ipython",
    "version": 3
   },
   "file_extension": ".py",
   "mimetype": "text/x-python",
   "name": "python",
   "nbconvert_exporter": "python",
   "pygments_lexer": "ipython3",
   "version": "3.6.5"
  }
 },
 "nbformat": 4,
 "nbformat_minor": 2
}
