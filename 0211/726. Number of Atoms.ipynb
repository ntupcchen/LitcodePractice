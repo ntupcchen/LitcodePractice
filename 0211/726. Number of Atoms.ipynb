{
 "cells": [
  {
   "cell_type": "code",
   "execution_count": 50,
   "metadata": {},
   "outputs": [],
   "source": [
    "class Solution:\n",
    "    def countOfAtoms(self, formula: str) -> str:\n",
    "        '''Runtime: 24 ms, faster than 94.12% of Python3 online submissions for Number of Atoms.\n",
    "        Memory Usage: 12.8 MB, less than 100.00% of Python3 online submissions for Number of Atoms.\n",
    "        '''\n",
    "        i = 0\n",
    "        now_dic, stack = {}, []\n",
    "        while i < len(formula):\n",
    "            now_atom, now_addend = '', 0\n",
    "            if formula[i].isupper():\n",
    "                now_atom = formula[i]\n",
    "                i += 1\n",
    "                while i < len(formula) and formula[i].islower():\n",
    "                    now_atom += formula[i]\n",
    "                    i += 1\n",
    "                while i < len(formula) and formula[i].isdigit():\n",
    "                    now_addend = now_addend*10+int(formula[i])\n",
    "                    i += 1\n",
    "                if not now_addend:\n",
    "                    now_addend = 1\n",
    "                now_dic[now_atom] = now_dic.get(now_atom, 0)+now_addend\n",
    "\n",
    "            if i<len(formula) and formula[i] == '(':\n",
    "                stack.append(now_dic)\n",
    "                now_dic = {}\n",
    "                i = i+1\n",
    "\n",
    "            if i<len(formula) and formula[i] == ')':\n",
    "                now_multiple = 0\n",
    "                i += 1\n",
    "                while i < len(formula) and formula[i].isdigit():\n",
    "                    now_multiple = now_multiple*10+int(formula[i])\n",
    "                    i += 1\n",
    "                outter_dic = stack.pop()\n",
    "                for key in now_dic:\n",
    "                    outter_dic[key] = outter_dic.get(key, 0)+now_dic[key]*now_multiple\n",
    "                now_dic = outter_dic\n",
    "        res =''\n",
    "        for key in sorted(now_dic):\n",
    "            res += key+str(now_dic[key] if now_dic[key]!=1 else '')\n",
    "        return res"
   ]
  },
  {
   "cell_type": "code",
   "execution_count": 51,
   "metadata": {},
   "outputs": [
    {
     "data": {
      "text/plain": [
       "'K4N2O14S4'"
      ]
     },
     "execution_count": 51,
     "metadata": {},
     "output_type": "execute_result"
    }
   ],
   "source": [
    "formula = \"K4(ON(SO3)2)2\"\n",
    "Solution().countOfAtoms(formula)"
   ]
  }
 ],
 "metadata": {
  "kernelspec": {
   "display_name": "Python 3",
   "language": "python",
   "name": "python3"
  },
  "language_info": {
   "codemirror_mode": {
    "name": "ipython",
    "version": 3
   },
   "file_extension": ".py",
   "mimetype": "text/x-python",
   "name": "python",
   "nbconvert_exporter": "python",
   "pygments_lexer": "ipython3",
   "version": "3.6.5"
  }
 },
 "nbformat": 4,
 "nbformat_minor": 2
}
