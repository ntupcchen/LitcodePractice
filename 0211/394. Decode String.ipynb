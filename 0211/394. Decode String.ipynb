{
 "cells": [
  {
   "cell_type": "code",
   "execution_count": 46,
   "metadata": {},
   "outputs": [],
   "source": [
    "class Solution:\n",
    "    def decodeString(self, s: str) -> str:\n",
    "        '''\n",
    "        Runtime: 20 ms, faster than 96.24% of Python3 online submissions for Decode String.        \n",
    "        Memory Usage: 12.8 MB, less than 100.00% of Python3 online submissions for Decode String.\n",
    "        '''\n",
    "        i, multiple, pattern, res,stack = 0, 0, '', '', []\n",
    "        stack.append([1,''])\n",
    "        while i<len(s):\n",
    "            if s[i].isdigit():\n",
    "                multiple = multiple*10+int(s[i])\n",
    "            if s[i].isalpha():\n",
    "                pattern += s[i]\n",
    "            if s[i]=='[':\n",
    "                stack.append([multiple, pattern])\n",
    "                multiple, pattern = 0, ''\n",
    "            if s[i]==']' or i==len(s)-1:\n",
    "                pop_mul, pop_pattern = stack.pop()\n",
    "                pop_pattern += pattern*(pop_mul if pop_mul else 1)\n",
    "                multiple, pattern = 0, pop_pattern\n",
    "            i+=1\n",
    "        return pattern"
   ]
  },
  {
   "cell_type": "code",
   "execution_count": 47,
   "metadata": {},
   "outputs": [
    {
     "data": {
      "text/plain": [
       "'abcabccdcdcdef'"
      ]
     },
     "execution_count": 47,
     "metadata": {},
     "output_type": "execute_result"
    }
   ],
   "source": [
    "s = \"2[abc]3[cd]ef\"\n",
    "Solution().decodeString(s)"
   ]
  }
 ],
 "metadata": {
  "kernelspec": {
   "display_name": "Python 3",
   "language": "python",
   "name": "python3"
  },
  "language_info": {
   "codemirror_mode": {
    "name": "ipython",
    "version": 3
   },
   "file_extension": ".py",
   "mimetype": "text/x-python",
   "name": "python",
   "nbconvert_exporter": "python",
   "pygments_lexer": "ipython3",
   "version": "3.6.5"
  }
 },
 "nbformat": 4,
 "nbformat_minor": 2
}
