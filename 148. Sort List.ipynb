{
 "cells": [
  {
   "cell_type": "code",
   "execution_count": 16,
   "metadata": {},
   "outputs": [],
   "source": [
    "# Definition for singly-linked list.\n",
    "class ListNode:\n",
    "    def __init__(self, x):\n",
    "        self.val = x\n",
    "        self.next = None\n",
    "\n",
    "# class Solution:\n",
    "#     def sortList(self, head:ListNode) -> ListNode:\n",
    "#         dummy = ListNode(None)\n",
    "        \n",
    "    \n",
    "    def sortList_recursive(self, head: ListNode) -> ListNode:\n",
    "        '''\n",
    "        Runtime: 248 ms, faster than 39.46% of Python3 online submissions for Sort List.\n",
    "        Memory Usage: 21.9 MB, less than 15.38% of Python3 online submissions for Sort List.\n",
    "        '''\n",
    "        count = 0\n",
    "        sentinel = head\n",
    "        while head:\n",
    "            count += 1\n",
    "            head = head.next\n",
    "        if count ==1 or count==0:\n",
    "            return sentinel\n",
    "        \n",
    "        head = sentinel\n",
    "        for i in range(count//2-1):\n",
    "            head = head.next\n",
    "        right = head.next\n",
    "        left = sentinel\n",
    "        head.next = None\n",
    "        left = self.sortList(left)\n",
    "        right = self.sortList(right)\n",
    "        sentinel = head= ListNode(None)\n",
    "        while True:\n",
    "            if not left:\n",
    "                head.next = right\n",
    "                right = None\n",
    "                break\n",
    "            if not right:\n",
    "                head.next = left\n",
    "                left = None\n",
    "                break\n",
    "                \n",
    "            if (left.val >= right.val):\n",
    "                head.next = right\n",
    "                right = right.next\n",
    "                head = head.next\n",
    "            else:\n",
    "                head.next = left\n",
    "                left = left.next\n",
    "                head = head.next\n",
    "        \n",
    "        return sentinel.next"
   ]
  },
  {
   "cell_type": "code",
   "execution_count": 18,
   "metadata": {},
   "outputs": [
    {
     "name": "stdout",
     "output_type": "stream",
     "text": [
      "1 ,2 ,3 ,4 ,5 ,6 ,"
     ]
    }
   ],
   "source": [
    "def makeListNode(arr):\n",
    "    sentinel = p = ListNode(arr[0])\n",
    "    if len(arr)>1:\n",
    "        for i in range(len(arr)-1):\n",
    "            n = ListNode(arr[i+1])\n",
    "            p.next = n\n",
    "            p = n\n",
    "            \n",
    "    return sentinel\n",
    "def printLN(ln):\n",
    "    while ln:\n",
    "        print(ln.val,',',end='')\n",
    "        ln = ln.next\n",
    "\n",
    "a= makeListNode([1,2,3,4,5,6])\n",
    "c=Solution().sortList(a)\n",
    "printLN(c)"
   ]
  },
  {
   "cell_type": "code",
   "execution_count": 1,
   "metadata": {},
   "outputs": [
    {
     "name": "stdout",
     "output_type": "stream",
     "text": [
      "2\n",
      "4\n",
      "8\n",
      "16\n",
      "32\n",
      "64\n",
      "128\n",
      "256\n",
      "512\n",
      "1024\n"
     ]
    }
   ],
   "source": []
  },
  {
   "cell_type": "code",
   "execution_count": null,
   "metadata": {},
   "outputs": [],
   "source": []
  }
 ],
 "metadata": {
  "kernelspec": {
   "display_name": "Python 3",
   "language": "python",
   "name": "python3"
  },
  "language_info": {
   "codemirror_mode": {
    "name": "ipython",
    "version": 3
   },
   "file_extension": ".py",
   "mimetype": "text/x-python",
   "name": "python",
   "nbconvert_exporter": "python",
   "pygments_lexer": "ipython3",
   "version": "3.6.5"
  }
 },
 "nbformat": 4,
 "nbformat_minor": 2
}
