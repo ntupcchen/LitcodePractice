{
 "cells": [
  {
   "cell_type": "code",
   "execution_count": null,
   "metadata": {},
   "outputs": [],
   "source": [
    "class Solution:\n",
    "    def addTwoNumbers(self, l1, l2):\n",
    "        '''2020/02/04\n",
    "        Runtime: 64 ms, faster than 92.58% of Python3 online submissions for Add Two Numbers II.\n",
    "        Memory Usage: 12.7 MB, less than 100.00% of Python3 online submissions for Add Two Numbers II.\n",
    "        '''\n",
    "        sum_l1, sum_l2 = 0, 0\n",
    "        while l1:\n",
    "            sum_l1 = l1.val+sum_l1*10\n",
    "            l1=l1.next\n",
    "        while l2:\n",
    "            sum_l2 = l2.val+sum_l2*10\n",
    "            l2= l2.next\n",
    "        sum_total = sum_l1+sum_l2\n",
    "        \n",
    "        head = ListNode(0)\n",
    "        tail = None\n",
    "        while sum_total>=1:\n",
    "            head = ListNode(sum_total%10)\n",
    "            head.next = tail\n",
    "            tail = head\n",
    "            sum_total = sum_total//10\n",
    "        return head"
   ]
  },
  {
   "cell_type": "code",
   "execution_count": 21,
   "metadata": {},
   "outputs": [],
   "source": [
    "import math\n",
    "\n",
    "\n",
    "# Definition for singly-linked list.\n",
    "class ListNode:\n",
    "    def __init__(self, x):\n",
    "        self.val = x\n",
    "        self.next = None\n",
    "\n",
    "class Solution:\n",
    "    def addTwoNumbers(self, l1: ListNode, l2: ListNode) -> ListNode:\n",
    "    '''2020/02/04\n",
    "    Runtime: 72 ms, faster than 65.52% of Python3 online submissions for Add Two Numbers II.\n",
    "    Memory Usage: 12.6 MB, less than 100.00% of Python3 online submissions for Add Two Numbers II.\n",
    "    '''\n",
    "        sum_l1, sum_l2, sum_total = 0, 0, 0\n",
    "        while l1:\n",
    "            sum_l1 = l1.val+sum_l1*10\n",
    "            l1 = l1.next\n",
    "        while l2:\n",
    "            sum_l2 = l2.val+sum_l2*10\n",
    "            l2 = l2.next\n",
    "        sum_total = sum_l1+sum_l2\n",
    "        if not sum_total:\n",
    "            return ListNode(0)\n",
    "        digits = int(math.floor(math.log(sum_total, 10)))\n",
    "        first = sum_total//(10**digits)\n",
    "        if first==10:\n",
    "#             happened at digits>=27, unknown reason\n",
    "            sentinel = previous_node = ListNode(1)\n",
    "            previous_node.next = new_node = ListNode(0)\n",
    "            previous_node = new_node\n",
    "        else:\n",
    "            sentinel = previous_node = ListNode(sum_total//(10**digits))\n",
    "        \n",
    "        sum_total = sum_total%(10**digits)\n",
    "        for i in range(digits-1,-1,-1):\n",
    "            new_node = ListNode(sum_total//(10**i))\n",
    "            sum_total = sum_total%(10**i)\n",
    "            previous_node.next = new_node\n",
    "            previous_node = new_node\n",
    "        return sentinel\n",
    "            "
   ]
  },
  {
   "cell_type": "code",
   "execution_count": 25,
   "metadata": {},
   "outputs": [
    {
     "name": "stdout",
     "output_type": "stream",
     "text": [
      "98\n",
      "1000000000000000000000000000000000000000000000000000000000000000000000000000000000000000000000000000\n",
      "First 10\n",
      "10 ,0 ,0 ,0 ,0 ,0 ,0 ,0 ,0 ,0 ,0 ,0 ,0 ,0 ,0 ,0 ,0 ,0 ,0 ,0 ,0 ,0 ,0 ,0 ,0 ,0 ,0 ,0 ,0 ,0 ,0 ,0 ,0 ,0 ,0 ,0 ,0 ,0 ,0 ,0 ,0 ,0 ,0 ,0 ,0 ,0 ,0 ,0 ,0 ,0 ,0 ,0 ,0 ,0 ,0 ,0 ,0 ,0 ,0 ,0 ,0 ,0 ,0 ,0 ,0 ,0 ,0 ,0 ,0 ,0 ,0 ,0 ,0 ,0 ,0 ,0 ,0 ,0 ,0 ,0 ,0 ,0 ,0 ,0 ,0 ,0 ,0 ,0 ,0 ,0 ,0 ,0 ,0 ,0 ,0 ,0 ,0 ,0 ,0 ,"
     ]
    }
   ],
   "source": [
    "def makeListNode(arr):\n",
    "    sentinel = p = ListNode(arr[0])\n",
    "    if len(arr)>1:\n",
    "        for i in range(len(arr)-1):\n",
    "            n = ListNode(arr[i+1])\n",
    "            p.next = n\n",
    "            p = n\n",
    "            \n",
    "    return sentinel\n",
    "def printLN(ln):\n",
    "    while ln:\n",
    "        print(ln.val,',',end='')\n",
    "        ln = ln.next\n",
    "\n",
    "a=makeListNode([9,9,9,9,9,9,9,9,9,9,9,9,9,9,9,9,9,9,9,9,9,9,9,9,9,9,9,9,9,9,9,9,9,9,9,9,9,9,9,9,9,9,9,9,9,9,9,9,9,9,9,9,9,9,9,9,9,9,9,9,9,9,9,9,9,9,9,9,9,9,9,9,9,9,9,9,9,9,9,9,9,9,9,9,9,9,9,9,9,9,9,9,9,9,9,9,9,9,9])\n",
    "b=makeListNode([1])\n",
    "# a= makeListNode([9,9])\n",
    "# b= makeListNode([1])\n",
    "c=Solution().addTwoNumbers(a,b)\n",
    "printLN(c)"
   ]
  },
  {
   "cell_type": "code",
   "execution_count": null,
   "metadata": {},
   "outputs": [],
   "source": []
  }
 ],
 "metadata": {
  "kernelspec": {
   "display_name": "Python 3",
   "language": "python",
   "name": "python3"
  },
  "language_info": {
   "codemirror_mode": {
    "name": "ipython",
    "version": 3
   },
   "file_extension": ".py",
   "mimetype": "text/x-python",
   "name": "python",
   "nbconvert_exporter": "python",
   "pygments_lexer": "ipython3",
   "version": "3.6.5"
  }
 },
 "nbformat": 4,
 "nbformat_minor": 2
}
