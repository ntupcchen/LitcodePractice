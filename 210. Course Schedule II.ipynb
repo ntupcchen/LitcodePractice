{
 "cells": [
  {
   "cell_type": "code",
   "execution_count": 2,
   "metadata": {},
   "outputs": [],
   "source": [
    "from typing import List\n",
    "class Solution:\n",
    "    ''' \n",
    "    Runtime: 100 ms, faster than 85.25% of Python3 online submissions for Course Schedule II.\n",
    "    Memory Usage: 15 MB, less than 60.71% of Python3 online submissions for Course Schedule II.\n",
    "    '''\n",
    "    def findOrder(self, numCourses: int, prerequisites: List[List[int]]) -> List[int]:\n",
    "        # linklist[i]: a list of cources cource_i blocked\n",
    "        # block_count[i]: how many courses is blocking i\n",
    "        # res, cur: list of visitable courses and visiting pointer to res\n",
    "        \n",
    "        linklist = [None]*numCourses\n",
    "        block_count = [0]*numCourses\n",
    "        res = []\n",
    "        cur = 0\n",
    "\n",
    "        for b_idx, f_idx in prerequisites:\n",
    "            node = Node(b_idx)\n",
    "            node.next = linklist[f_idx]\n",
    "            linklist[f_idx] = node\n",
    "            block_count[b_idx] += 1\n",
    "            \n",
    "        for i, count in enumerate(block_count):\n",
    "            if count == 0:\n",
    "                res.append(i)\n",
    "\n",
    "        while cur < len(res):\n",
    "            take_i = res[cur]\n",
    "            node_i = linklist[take_i]\n",
    "            while node_i:\n",
    "                block_count[node_i.idx] -= 1\n",
    "                if not block_count[node_i.idx]:\n",
    "                    res.append(node_i.idx)\n",
    "                node_i = node_i.next\n",
    "            cur += 1\n",
    "            if len(res) == numCourses:\n",
    "                return res\n",
    "            \n",
    "        return []\n",
    "    \n",
    "class Node:\n",
    "    def __init__(self, idx):\n",
    "        self.idx = idx\n",
    "        self.next = None"
   ]
  },
  {
   "cell_type": "code",
   "execution_count": 4,
   "metadata": {},
   "outputs": [
    {
     "data": {
      "text/plain": [
       "[0, 2, 1, 3]"
      ]
     },
     "execution_count": 4,
     "metadata": {},
     "output_type": "execute_result"
    }
   ],
   "source": [
    "Solution().findOrder(4, [[1,0],[2,0],[3,1],[3,2]])"
   ]
  }
 ],
 "metadata": {
  "kernelspec": {
   "display_name": "Python 3",
   "language": "python",
   "name": "python3"
  },
  "language_info": {
   "codemirror_mode": {
    "name": "ipython",
    "version": 3
   },
   "file_extension": ".py",
   "mimetype": "text/x-python",
   "name": "python",
   "nbconvert_exporter": "python",
   "pygments_lexer": "ipython3",
   "version": "3.6.5"
  }
 },
 "nbformat": 4,
 "nbformat_minor": 2
}
