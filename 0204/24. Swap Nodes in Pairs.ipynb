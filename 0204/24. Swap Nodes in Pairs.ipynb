{
 "cells": [
  {
   "cell_type": "code",
   "execution_count": 7,
   "metadata": {},
   "outputs": [],
   "source": [
    "# Definition for singly-linked list.\n",
    "class ListNode:\n",
    "    def __init__(self, x):\n",
    "        self.val = x\n",
    "        self.next = None\n",
    "\n",
    "class Solution:\n",
    "    '''2020/02/04\n",
    "        Runtime: 24 ms, faster than 91.72% of Python3 online submissions for Swap Nodes in Pairs.\n",
    "        Memory Usage: 12.7 MB, less than 100.00% of Python3 online submissions for Swap Nodes in Pairs.\n",
    "    '''\n",
    "    def swapPairs(self, head: ListNode) -> ListNode:\n",
    "        if not head or not head.next: return head\n",
    "        dummy = ListNode(0)\n",
    "        dummy.next = head\n",
    "        cur = dummy\n",
    "        \n",
    "        while cur.next and cur.next.next:\n",
    "            first = cur.next\n",
    "            sec = cur.next.next\n",
    "            cur.next = sec\n",
    "            first.next = sec.next\n",
    "            sec.next = first\n",
    "            cur = cur.next.next\n",
    "        return dummy.next    "
   ]
  },
  {
   "cell_type": "code",
   "execution_count": 6,
   "metadata": {},
   "outputs": [],
   "source": [
    "class Solution:\n",
    "    def swapPairs(self, head: ListNode) -> ListNode:\n",
    "        '''2020/02/04 Recursive\n",
    "        Runtime: 20 ms, faster than 98.00% of Python3 online submissions for Swap Nodes in Pairs.\n",
    "        Memory Usage: 12.8 MB, less than 100.00% of Python3 online submissions for Swap Nodes in Pairs.\n",
    "        '''\n",
    "        if (not head or not head.next):\n",
    "            return head\n",
    "        next_node = head.next\n",
    "        head.next = self.swapPairs(next_node.next)\n",
    "        next_node.next = head\n",
    "        return next_node"
   ]
  },
  {
   "cell_type": "code",
   "execution_count": 10,
   "metadata": {},
   "outputs": [
    {
     "name": "stdout",
     "output_type": "stream",
     "text": [
      "2 ,1 ,"
     ]
    }
   ],
   "source": [
    "def makeListNode(arr):\n",
    "    sentinel = p = ListNode(arr[0])\n",
    "    if len(arr)>1:\n",
    "        for i in range(len(arr)-1):\n",
    "            n = ListNode(arr[i+1])\n",
    "            p.next = n\n",
    "            p = n\n",
    "            \n",
    "    return sentinel\n",
    "def printLN(ln):\n",
    "    while ln:\n",
    "        print(ln.val,',',end='')\n",
    "        ln = ln.next\n",
    "        \n",
    "def exam(node):\n",
    "    node = ListNode(0)\n",
    "\n",
    "    \n",
    "\n",
    "a= makeListNode([1,2])\n",
    "\n",
    "c=Solution().swapPairs(a)\n",
    "printLN(c)"
   ]
  },
  {
   "cell_type": "code",
   "execution_count": null,
   "metadata": {},
   "outputs": [],
   "source": []
  }
 ],
 "metadata": {
  "kernelspec": {
   "display_name": "Python 3",
   "language": "python",
   "name": "python3"
  },
  "language_info": {
   "codemirror_mode": {
    "name": "ipython",
    "version": 3
   },
   "file_extension": ".py",
   "mimetype": "text/x-python",
   "name": "python",
   "nbconvert_exporter": "python",
   "pygments_lexer": "ipython3",
   "version": "3.6.5"
  }
 },
 "nbformat": 4,
 "nbformat_minor": 2
}
